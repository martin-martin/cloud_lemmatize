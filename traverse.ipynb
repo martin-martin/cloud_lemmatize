{
 "cells": [
  {
   "cell_type": "code",
   "execution_count": 6,
   "metadata": {
    "collapsed": true
   },
   "outputs": [],
   "source": [
    "import os\n",
    "import re\n",
    "import json\n",
    "from pprint import pprint"
   ]
  },
  {
   "cell_type": "markdown",
   "metadata": {},
   "source": [
    "# Load and prepare the data"
   ]
  },
  {
   "cell_type": "code",
   "execution_count": 3,
   "metadata": {
    "collapsed": true
   },
   "outputs": [],
   "source": [
    "all_files = os.listdir(\"chunk_out\")"
   ]
  },
  {
   "cell_type": "code",
   "execution_count": 10,
   "metadata": {
    "collapsed": false
   },
   "outputs": [],
   "source": [
    "a_file = all_files[0]\n",
    "a_file\n",
    "folder = \"chunk_out\""
   ]
  },
  {
   "cell_type": "code",
   "execution_count": 8,
   "metadata": {
    "collapsed": false
   },
   "outputs": [],
   "source": [
    "# fetch everything before the first occurance of a opening curly brace\n",
    "# to handle HTTP response headers present in the files\n",
    "pattern = re.compile(r\"[^{]*\")"
   ]
  },
  {
   "cell_type": "code",
   "execution_count": 34,
   "metadata": {
    "collapsed": false
   },
   "outputs": [],
   "source": [
    "# clean up the data files for JSON traversion\n",
    "documentation = \"\"\n",
    "response_list = list()\n",
    "\n",
    "for a_file in all_files:\n",
    "    # fetch the current file\n",
    "    with open(\"{0}/{1}\".format(folder, a_file)) as f:\n",
    "        file_string = f.read()\n",
    "        header = re.search(pattern, file_string)\n",
    "        documentation += \"\\t{0}\\n\\n{1}\".format(a_file, header.group(0))\n",
    "        # delete the HTML response header from the JSON\n",
    "        file_string = file_string.replace(header.group(0), \"\")\n",
    "        # load the JSON into a python dict\n",
    "        response = json.loads(file_string)\n",
    "        response_list.append(response)"
   ]
  },
  {
   "cell_type": "code",
   "execution_count": 37,
   "metadata": {
    "collapsed": false,
    "scrolled": true
   },
   "outputs": [],
   "source": [
    "#print(documentation)"
   ]
  },
  {
   "cell_type": "code",
   "execution_count": 36,
   "metadata": {
    "collapsed": true
   },
   "outputs": [],
   "source": [
    "# saving the documentation headers, just because\n",
    "with open(\"doc_headers.txt\", \"w\") as f:\n",
    "    f.write(documentation)"
   ]
  },
  {
   "cell_type": "markdown",
   "metadata": {},
   "source": [
    "# Traversing the JSON valleys"
   ]
  },
  {
   "cell_type": "code",
   "execution_count": null,
   "metadata": {
    "collapsed": true
   },
   "outputs": [],
   "source": [
    "def id_generator(dict):\n",
    "      for k, v in dict.items():\n",
    "            yield k\n",
    "#            if k == \"lemma\":\n",
    "#                 yield v\n",
    "#            elif isinstance(v, dict):\n",
    "#                 for id_val in id_generator(v):\n",
    "#                       yield id_val"
   ]
  },
  {
   "cell_type": "code",
   "execution_count": 42,
   "metadata": {
    "collapsed": true
   },
   "outputs": [],
   "source": [
    "def item_generator(json_input, lookup_key):\n",
    "    if isinstance(json_input, dict):\n",
    "        for k, v in json_input.items():\n",
    "            if k == lookup_key:\n",
    "                yield v\n",
    "            else:\n",
    "                for child_val in item_generator(v, lookup_key):\n",
    "                    yield child_val\n",
    "    elif isinstance(json_input, list):\n",
    "        for item in json_input:\n",
    "            for item_val in item_generator(item, lookup_key):\n",
    "                yield item_val"
   ]
  },
  {
   "cell_type": "code",
   "execution_count": 49,
   "metadata": {
    "collapsed": false
   },
   "outputs": [],
   "source": [
    "#with open(\"{0}/try.json\".format(folder), \"r\") as f:\n",
    "#    res = json.load(f)    \n",
    "count = 0\n",
    "form_num = 0\n",
    "for _ in item_generator(response_list[0], \"form\"):\n",
    "    form_num += 1\n",
    "#    count += 1\n",
    "#    if count >= 5:\n",
    "#        break"
   ]
  },
  {
   "cell_type": "code",
   "execution_count": 54,
   "metadata": {
    "collapsed": false
   },
   "outputs": [],
   "source": [
    "list_list = []\n",
    "\n",
    "\n",
    "for _ in item_generator(response_list[0], \"analysis_list\"):\n",
    "    list_list.append(_[0])"
   ]
  },
  {
   "cell_type": "code",
   "execution_count": 65,
   "metadata": {
    "collapsed": false
   },
   "outputs": [],
   "source": [
    "focus_list = list()\n",
    "messy_list = list()\n",
    "\n",
    "for l in list_list:\n",
    "    # take only those forward that are actually single words\n",
    "    if l[\"original_form\"].find(\" \") == -1:\n",
    "        focus_list.append(l)\n",
    "    # put the rest into another list (for checkup)\n",
    "    else:\n",
    "        messy_list.append(l)    "
   ]
  },
  {
   "cell_type": "code",
   "execution_count": 66,
   "metadata": {
    "collapsed": false
   },
   "outputs": [
    {
     "data": {
      "text/plain": [
       "(272, 11700)"
      ]
     },
     "execution_count": 66,
     "metadata": {},
     "output_type": "execute_result"
    }
   ],
   "source": [
    "len(messy_list), len(focus_list)"
   ]
  },
  {
   "cell_type": "code",
   "execution_count": 62,
   "metadata": {
    "collapsed": true
   },
   "outputs": [],
   "source": [
    "import pandas as pd"
   ]
  },
  {
   "cell_type": "code",
   "execution_count": 69,
   "metadata": {
    "collapsed": true
   },
   "outputs": [],
   "source": [
    "df = pd.DataFrame(focus_list)"
   ]
  },
  {
   "cell_type": "code",
   "execution_count": 70,
   "metadata": {
    "collapsed": false,
    "scrolled": true
   },
   "outputs": [
    {
     "data": {
      "text/html": [
       "<div>\n",
       "<table border=\"1\" class=\"dataframe\">\n",
       "  <thead>\n",
       "    <tr style=\"text-align: right;\">\n",
       "      <th></th>\n",
       "      <th>check_info</th>\n",
       "      <th>lemma</th>\n",
       "      <th>original_form</th>\n",
       "      <th>remission</th>\n",
       "      <th>sense_id_list</th>\n",
       "      <th>tag</th>\n",
       "      <th>variety_dictionary</th>\n",
       "    </tr>\n",
       "  </thead>\n",
       "  <tbody>\n",
       "    <tr>\n",
       "      <th>0</th>\n",
       "      <td>NaN</td>\n",
       "      <td>primero</td>\n",
       "      <td>primer</td>\n",
       "      <td>NaN</td>\n",
       "      <td>NaN</td>\n",
       "      <td>MDMSOT7</td>\n",
       "      <td>NaN</td>\n",
       "    </tr>\n",
       "    <tr>\n",
       "      <th>1</th>\n",
       "      <td>NaN</td>\n",
       "      <td>primero</td>\n",
       "      <td>primera</td>\n",
       "      <td>NaN</td>\n",
       "      <td>NaN</td>\n",
       "      <td>MPFSON7</td>\n",
       "      <td>NaN</td>\n",
       "    </tr>\n",
       "    <tr>\n",
       "      <th>2</th>\n",
       "      <td>NaN</td>\n",
       "      <td>primero</td>\n",
       "      <td>primeras</td>\n",
       "      <td>NaN</td>\n",
       "      <td>NaN</td>\n",
       "      <td>MDFPON7</td>\n",
       "      <td>NaN</td>\n",
       "    </tr>\n",
       "    <tr>\n",
       "      <th>3</th>\n",
       "      <td>NaN</td>\n",
       "      <td>primero</td>\n",
       "      <td>primero</td>\n",
       "      <td>NaN</td>\n",
       "      <td>NaN</td>\n",
       "      <td>ENMPN7</td>\n",
       "      <td>NaN</td>\n",
       "    </tr>\n",
       "    <tr>\n",
       "      <th>4</th>\n",
       "      <td>NaN</td>\n",
       "      <td>primero</td>\n",
       "      <td>primero</td>\n",
       "      <td>NaN</td>\n",
       "      <td>NaN</td>\n",
       "      <td>GE---M---</td>\n",
       "      <td>NaN</td>\n",
       "    </tr>\n",
       "  </tbody>\n",
       "</table>\n",
       "</div>"
      ],
      "text/plain": [
       "  check_info    lemma original_form remission sense_id_list        tag  \\\n",
       "0        NaN  primero        primer       NaN           NaN    MDMSOT7   \n",
       "1        NaN  primero       primera       NaN           NaN    MPFSON7   \n",
       "2        NaN  primero      primeras       NaN           NaN    MDFPON7   \n",
       "3        NaN  primero       primero       NaN           NaN     ENMPN7   \n",
       "4        NaN  primero       primero       NaN           NaN  GE---M---   \n",
       "\n",
       "  variety_dictionary  \n",
       "0                NaN  \n",
       "1                NaN  \n",
       "2                NaN  \n",
       "3                NaN  \n",
       "4                NaN  "
      ]
     },
     "execution_count": 70,
     "metadata": {},
     "output_type": "execute_result"
    }
   ],
   "source": [
    "df.head()"
   ]
  },
  {
   "cell_type": "code",
   "execution_count": 91,
   "metadata": {
    "collapsed": false
   },
   "outputs": [
    {
     "data": {
      "text/html": [
       "<div>\n",
       "<table border=\"1\" class=\"dataframe\">\n",
       "  <thead>\n",
       "    <tr style=\"text-align: right;\">\n",
       "      <th></th>\n",
       "      <th>lemma</th>\n",
       "      <th>original_form</th>\n",
       "      <th>tag</th>\n",
       "    </tr>\n",
       "  </thead>\n",
       "  <tbody>\n",
       "    <tr>\n",
       "      <th>0</th>\n",
       "      <td>primero</td>\n",
       "      <td>primer</td>\n",
       "      <td>MDMSOT7</td>\n",
       "    </tr>\n",
       "    <tr>\n",
       "      <th>1</th>\n",
       "      <td>primero</td>\n",
       "      <td>primera</td>\n",
       "      <td>MPFSON7</td>\n",
       "    </tr>\n",
       "    <tr>\n",
       "      <th>2</th>\n",
       "      <td>primero</td>\n",
       "      <td>primeras</td>\n",
       "      <td>MDFPON7</td>\n",
       "    </tr>\n",
       "    <tr>\n",
       "      <th>3</th>\n",
       "      <td>primero</td>\n",
       "      <td>primero</td>\n",
       "      <td>ENMPN7</td>\n",
       "    </tr>\n",
       "    <tr>\n",
       "      <th>4</th>\n",
       "      <td>primero</td>\n",
       "      <td>primero</td>\n",
       "      <td>GE---M---</td>\n",
       "    </tr>\n",
       "  </tbody>\n",
       "</table>\n",
       "</div>"
      ],
      "text/plain": [
       "     lemma original_form        tag\n",
       "0  primero        primer    MDMSOT7\n",
       "1  primero       primera    MPFSON7\n",
       "2  primero      primeras    MDFPON7\n",
       "3  primero       primero     ENMPN7\n",
       "4  primero       primero  GE---M---"
      ]
     },
     "execution_count": 91,
     "metadata": {},
     "output_type": "execute_result"
    }
   ],
   "source": [
    "nef = df[['lemma', 'original_form', 'tag']]\n",
    "nef.head()"
   ]
  },
  {
   "cell_type": "code",
   "execution_count": 80,
   "metadata": {
    "collapsed": false
   },
   "outputs": [
    {
     "data": {
      "text/html": [
       "<div>\n",
       "<table border=\"1\" class=\"dataframe\">\n",
       "  <thead>\n",
       "    <tr style=\"text-align: right;\">\n",
       "      <th></th>\n",
       "      <th>lemma</th>\n",
       "      <th>original_form</th>\n",
       "      <th>tag</th>\n",
       "    </tr>\n",
       "  </thead>\n",
       "  <tbody>\n",
       "    <tr>\n",
       "      <th>7000</th>\n",
       "      <td>aborregar</td>\n",
       "      <td>aborreguéis</td>\n",
       "      <td>VS-P2PSAPL-N-</td>\n",
       "    </tr>\n",
       "    <tr>\n",
       "      <th>7001</th>\n",
       "      <td>aborregar</td>\n",
       "      <td>aborreguéis</td>\n",
       "      <td>GV-P2----</td>\n",
       "    </tr>\n",
       "    <tr>\n",
       "      <th>7002</th>\n",
       "      <td>aborregar</td>\n",
       "      <td>aborreguemos</td>\n",
       "      <td>VS-P1PSAPL-N-</td>\n",
       "    </tr>\n",
       "    <tr>\n",
       "      <th>7003</th>\n",
       "      <td>aborregar</td>\n",
       "      <td>aborreguemos</td>\n",
       "      <td>GV-P1----</td>\n",
       "    </tr>\n",
       "    <tr>\n",
       "      <th>7004</th>\n",
       "      <td>aborregar</td>\n",
       "      <td>aborreguen</td>\n",
       "      <td>VS-P3PSAPL-N-</td>\n",
       "    </tr>\n",
       "    <tr>\n",
       "      <th>7005</th>\n",
       "      <td>aborregar</td>\n",
       "      <td>aborreguen</td>\n",
       "      <td>GV-P3----</td>\n",
       "    </tr>\n",
       "    <tr>\n",
       "      <th>7006</th>\n",
       "      <td>aborregar</td>\n",
       "      <td>aborregues</td>\n",
       "      <td>VS-S2PSAPL-N-</td>\n",
       "    </tr>\n",
       "    <tr>\n",
       "      <th>7007</th>\n",
       "      <td>aborregar</td>\n",
       "      <td>aborregues</td>\n",
       "      <td>GV-S2----</td>\n",
       "    </tr>\n",
       "    <tr>\n",
       "      <th>7008</th>\n",
       "      <td>abortamiento</td>\n",
       "      <td>abortamientos</td>\n",
       "      <td>NCMP-NYN-</td>\n",
       "    </tr>\n",
       "    <tr>\n",
       "      <th>7009</th>\n",
       "      <td>abortamiento</td>\n",
       "      <td>abortamientos</td>\n",
       "      <td>GNMP3S---</td>\n",
       "    </tr>\n",
       "    <tr>\n",
       "      <th>7010</th>\n",
       "      <td>abortar</td>\n",
       "      <td>aborta</td>\n",
       "      <td>VI-S3PSABL-N3</td>\n",
       "    </tr>\n",
       "    <tr>\n",
       "      <th>7011</th>\n",
       "      <td>abortar</td>\n",
       "      <td>aborta</td>\n",
       "      <td>GV-S3----</td>\n",
       "    </tr>\n",
       "    <tr>\n",
       "      <th>7012</th>\n",
       "      <td>abortar</td>\n",
       "      <td>abortaba</td>\n",
       "      <td>VI-S1ISABL-N3</td>\n",
       "    </tr>\n",
       "    <tr>\n",
       "      <th>7013</th>\n",
       "      <td>abortar</td>\n",
       "      <td>abortaba</td>\n",
       "      <td>GV-S1----</td>\n",
       "    </tr>\n",
       "    <tr>\n",
       "      <th>7014</th>\n",
       "      <td>abortar</td>\n",
       "      <td>abortabais</td>\n",
       "      <td>VI-P2ISABL-N3</td>\n",
       "    </tr>\n",
       "    <tr>\n",
       "      <th>7015</th>\n",
       "      <td>abortar</td>\n",
       "      <td>abortabais</td>\n",
       "      <td>GV-P2----</td>\n",
       "    </tr>\n",
       "    <tr>\n",
       "      <th>7016</th>\n",
       "      <td>abortar</td>\n",
       "      <td>abortábamos</td>\n",
       "      <td>VI-P1ISABL-N3</td>\n",
       "    </tr>\n",
       "    <tr>\n",
       "      <th>7017</th>\n",
       "      <td>abortar</td>\n",
       "      <td>abortábamos</td>\n",
       "      <td>GV-P1----</td>\n",
       "    </tr>\n",
       "    <tr>\n",
       "      <th>7018</th>\n",
       "      <td>abortar</td>\n",
       "      <td>abortaban</td>\n",
       "      <td>VI-P3ISABL-N3</td>\n",
       "    </tr>\n",
       "    <tr>\n",
       "      <th>7019</th>\n",
       "      <td>abortar</td>\n",
       "      <td>abortaban</td>\n",
       "      <td>GV-P3----</td>\n",
       "    </tr>\n",
       "    <tr>\n",
       "      <th>7020</th>\n",
       "      <td>abortar</td>\n",
       "      <td>abortabas</td>\n",
       "      <td>VI-S2ISABL-N3</td>\n",
       "    </tr>\n",
       "    <tr>\n",
       "      <th>7021</th>\n",
       "      <td>abortar</td>\n",
       "      <td>abortabas</td>\n",
       "      <td>GV-S2----</td>\n",
       "    </tr>\n",
       "    <tr>\n",
       "      <th>7022</th>\n",
       "      <td>abortar</td>\n",
       "      <td>abortad</td>\n",
       "      <td>VM-P2OSABL-N3</td>\n",
       "    </tr>\n",
       "    <tr>\n",
       "      <th>7023</th>\n",
       "      <td>abortar</td>\n",
       "      <td>abortad</td>\n",
       "      <td>GV-P2----</td>\n",
       "    </tr>\n",
       "    <tr>\n",
       "      <th>7024</th>\n",
       "      <td>abortar</td>\n",
       "      <td>abortada</td>\n",
       "      <td>VPFS-OSABL-N3</td>\n",
       "    </tr>\n",
       "    <tr>\n",
       "      <th>7025</th>\n",
       "      <td>abortar</td>\n",
       "      <td>abortada</td>\n",
       "      <td>GAFS-----</td>\n",
       "    </tr>\n",
       "    <tr>\n",
       "      <th>7026</th>\n",
       "      <td>abortar</td>\n",
       "      <td>abortadas</td>\n",
       "      <td>VPFP-OSABL-N3</td>\n",
       "    </tr>\n",
       "    <tr>\n",
       "      <th>7027</th>\n",
       "      <td>abortar</td>\n",
       "      <td>abortadas</td>\n",
       "      <td>GAFP-----</td>\n",
       "    </tr>\n",
       "    <tr>\n",
       "      <th>7028</th>\n",
       "      <td>abortar</td>\n",
       "      <td>abortado</td>\n",
       "      <td>VPMS-OSABL-N3</td>\n",
       "    </tr>\n",
       "    <tr>\n",
       "      <th>7029</th>\n",
       "      <td>abortar</td>\n",
       "      <td>abortado</td>\n",
       "      <td>GAMS-----</td>\n",
       "    </tr>\n",
       "  </tbody>\n",
       "</table>\n",
       "</div>"
      ],
      "text/plain": [
       "             lemma  original_form            tag\n",
       "7000     aborregar    aborreguéis  VS-P2PSAPL-N-\n",
       "7001     aborregar    aborreguéis      GV-P2----\n",
       "7002     aborregar   aborreguemos  VS-P1PSAPL-N-\n",
       "7003     aborregar   aborreguemos      GV-P1----\n",
       "7004     aborregar     aborreguen  VS-P3PSAPL-N-\n",
       "7005     aborregar     aborreguen      GV-P3----\n",
       "7006     aborregar     aborregues  VS-S2PSAPL-N-\n",
       "7007     aborregar     aborregues      GV-S2----\n",
       "7008  abortamiento  abortamientos      NCMP-NYN-\n",
       "7009  abortamiento  abortamientos      GNMP3S---\n",
       "7010       abortar         aborta  VI-S3PSABL-N3\n",
       "7011       abortar         aborta      GV-S3----\n",
       "7012       abortar       abortaba  VI-S1ISABL-N3\n",
       "7013       abortar       abortaba      GV-S1----\n",
       "7014       abortar     abortabais  VI-P2ISABL-N3\n",
       "7015       abortar     abortabais      GV-P2----\n",
       "7016       abortar    abortábamos  VI-P1ISABL-N3\n",
       "7017       abortar    abortábamos      GV-P1----\n",
       "7018       abortar      abortaban  VI-P3ISABL-N3\n",
       "7019       abortar      abortaban      GV-P3----\n",
       "7020       abortar      abortabas  VI-S2ISABL-N3\n",
       "7021       abortar      abortabas      GV-S2----\n",
       "7022       abortar        abortad  VM-P2OSABL-N3\n",
       "7023       abortar        abortad      GV-P2----\n",
       "7024       abortar       abortada  VPFS-OSABL-N3\n",
       "7025       abortar       abortada      GAFS-----\n",
       "7026       abortar      abortadas  VPFP-OSABL-N3\n",
       "7027       abortar      abortadas      GAFP-----\n",
       "7028       abortar       abortado  VPMS-OSABL-N3\n",
       "7029       abortar       abortado      GAMS-----"
      ]
     },
     "execution_count": 80,
     "metadata": {},
     "output_type": "execute_result"
    }
   ],
   "source": [
    "fdf = df.drop([\"check_info\", \"remission\", \"sense_id_list\", \"variety_dictionary\"], axis=1)\n",
    "fdf[7000:7030]"
   ]
  },
  {
   "cell_type": "code",
   "execution_count": null,
   "metadata": {
    "collapsed": true
   },
   "outputs": [],
   "source": []
  }
 ],
 "metadata": {
  "anaconda-cloud": {},
  "kernelspec": {
   "display_name": "Python [conda env:car]",
   "language": "python",
   "name": "conda-env-car-py"
  },
  "language_info": {
   "codemirror_mode": {
    "name": "ipython",
    "version": 3
   },
   "file_extension": ".py",
   "mimetype": "text/x-python",
   "name": "python",
   "nbconvert_exporter": "python",
   "pygments_lexer": "ipython3",
   "version": "3.5.2"
  }
 },
 "nbformat": 4,
 "nbformat_minor": 1
}
